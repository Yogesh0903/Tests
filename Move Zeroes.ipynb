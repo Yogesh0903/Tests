{
 "cells": [
  {
   "cell_type": "markdown",
   "id": "b97f20eb-8535-45ca-b22d-db638ec85691",
   "metadata": {},
   "source": [
    "**Move Zeroes**\n",
    "\n",
    "Given an integer array nums, move all 0's to the end of it while maintaining the relative order of the non-zero elements.\n",
    "\n",
    "**Note** that you must do this in-place without making a copy of the array.\n",
    "\n",
    "**Example 1:**\n",
    "\n",
    "Input: nums = [0,1,0,3,12]\n",
    "\n",
    "Output: [1,3,12,0,0]\n",
    "\n",
    "**Example 2:**\n",
    "\n",
    "Input: nums = [0]\n",
    "\n",
    "Output: [0]\n",
    "\n",
    "Constraints:\n",
    "\n",
    "a. 1 <= nums.length <= 10^4\n",
    "\n",
    "b. -2^31 <= nums[i] <= 2^31 - 1\n",
    "\n",
    "**Note:** Create a GitHub file for the solution and add the file link the the answer section below.\n",
    "\n",
    "**Answer**"
   ]
  },
  {
   "cell_type": "code",
   "execution_count": 1,
   "id": "abe376fa-60f4-4e86-a01c-b85095da067e",
   "metadata": {},
   "outputs": [],
   "source": [
    "def movezeroes(nums):\n",
    "    nonzero = 0\n",
    "\n",
    "    # Iterate through the array\n",
    "    for num in nums:\n",
    "        if num != 0:\n",
    "            nums[nonzero] = num\n",
    "            nonzero += 1\n",
    "            \n",
    "    while nonzero < len(nums):\n",
    "        nums[nonzero] = 0\n",
    "        nonzero += 1\n",
    "\n",
    "    return nums"
   ]
  },
  {
   "cell_type": "code",
   "execution_count": 2,
   "id": "2ebe6f37-aa2c-4e0f-acdb-fd16e8ef3b31",
   "metadata": {},
   "outputs": [
    {
     "name": "stdout",
     "output_type": "stream",
     "text": [
      "[1, 3, 12, 0, 0]\n"
     ]
    }
   ],
   "source": [
    "nums = [0, 1, 0, 3, 12]\n",
    "print(movezeroes(nums))\n"
   ]
  },
  {
   "cell_type": "code",
   "execution_count": 3,
   "id": "0b9e6e69-d1ff-4557-aaa4-0b1f443a75eb",
   "metadata": {},
   "outputs": [
    {
     "name": "stdout",
     "output_type": "stream",
     "text": [
      "[0]\n"
     ]
    }
   ],
   "source": [
    "nums = [0]\n",
    "print(movezeroes(nums))"
   ]
  },
  {
   "cell_type": "markdown",
   "id": "f248e892-c1b8-42d9-833a-800add71581f",
   "metadata": {},
   "source": [
    "---"
   ]
  }
 ],
 "metadata": {
  "kernelspec": {
   "display_name": "Python 3 (ipykernel)",
   "language": "python",
   "name": "python3"
  },
  "language_info": {
   "codemirror_mode": {
    "name": "ipython",
    "version": 3
   },
   "file_extension": ".py",
   "mimetype": "text/x-python",
   "name": "python",
   "nbconvert_exporter": "python",
   "pygments_lexer": "ipython3",
   "version": "3.10.8"
  }
 },
 "nbformat": 4,
 "nbformat_minor": 5
}
